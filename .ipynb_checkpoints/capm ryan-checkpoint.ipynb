{
 "cells": [
  {
   "cell_type": "markdown",
   "metadata": {},
   "source": [
    "Please write a program that takes in a stock and requested dates and returns an estimate of the beta\n",
    "(and whether it is statistically significantly different from the market's beta), and the alpha (and whether\n",
    " it is statistically significantly different from zero).  It should also supply the SCL (security characteristic line)\n",
    " and any other metrics of interest (typically, a table of summary statistics, ANOVA, and coefficients).\n",
    " It should also write all the data to an Excel file in the event the user wants to do further analysis.\n",
    "\n",
    "Thus, one suggested procedure would be:\n",
    "\n",
    "-Program should query the user to enter the number of stocks to analyze and dates of interest (start/end).\n",
    "\n",
    "-Then for that number, user should enter ticker symbols.  Program should also query user as to what benchmark\n",
    "is appropriate (give options that user can select (like S&P 500, Russell 3000, Nasdaq, etc.) and/or invite user\n",
    "to enter their own index symbol.\n",
    "\n",
    "-Program should request user enter the appropriate risk free rate to use.\n",
    "\n",
    "-Program should scrape the price data from yahoo, google, or any other data site (there are plenty of examples\n",
    "of code on the web that you may use).\n",
    "\n",
    "-Program should convert price data to returns, run regression, and interpret output.   Interpretations should be\n",
    "printed out to display and/or file for recordkeeping--perhaps in tabular form.\n",
    "\n",
    "-Program should write data to file--preferably a multi-tabbed excel file with each stock's regression in one tab.\n",
    " Multiple files are also acceptable.\n",
    "\n",
    "Note:  there are code samples for yahoo and google finance extractions available on the web--feel free to use these.\n",
    "Also note that yahoo uses \"adjusted price\" and closing price.  You should always use the adjusted price since that incorporates the effects of dividends and splits."
   ]
  },
  {
   "cell_type": "code",
   "execution_count": 1,
   "metadata": {},
   "outputs": [
    {
     "name": "stdout",
     "output_type": "stream",
     "text": [
      "Populating the interactive namespace from numpy and matplotlib\n"
     ]
    },
    {
     "name": "stderr",
     "output_type": "stream",
     "text": [
      "C:\\Users\\Hannah\\Anaconda3\\lib\\site-packages\\IPython\\core\\magics\\pylab.py:160: UserWarning: pylab import has clobbered these variables: ['random']\n",
      "`%matplotlib` prevents importing * from pylab and numpy\n",
      "  \"\\n`%matplotlib` prevents importing * from pylab and numpy\"\n"
     ]
    }
   ],
   "source": [
    "import pandas as pd\n",
    "import pandas_datareader.data as web\n",
    "import numpy as np\n",
    "import random\n",
    "import statsmodels.api as sm\n",
    "from statsmodels import regression\n",
    "%pylab inline"
   ]
  },
  {
   "cell_type": "code",
   "execution_count": 5,
   "metadata": {},
   "outputs": [],
   "source": [
    "# Returns intercept, first coefficient, regression summary. ref: https://www.statsmodels.org/stable/generated/statsmodels.regression.linear_model.OLSResults.summary2.html, https://www.statsmodels.org/dev/generated/statsmodels.regression.linear_model.OLS.html\n",
    "def linreg(x,y):\n",
    "    \n",
    "    x = sm.add_constant(x)\n",
    "    model = regression.linear_model.OLS(y,x).fit()\n",
    "    \n",
    "#     x = x[:, 1]\n",
    "    return model.params[0], model.params[1], model.summary2()\n",
    "\n",
    "def betas():\n",
    "    benchmark = input('Which benchmark ticker would you like to use? \\nSPY, Russel etc...')\n",
    "    stocks = [benchmark]\n",
    "    print('[Benchmark]:', stocks)\n",
    "    print()\n",
    "    \n",
    "    rf = int(input('What would you like to use for risk free rate?'))\n",
    "    print('Rf: ', rf)\n",
    "    print()\n",
    "    \n",
    "    num_stocks = int(input('How many companies do you want to look at? '))\n",
    "    print('Number of stocks: ', num_stocks)\n",
    "    print()\n",
    "    \n",
    "    while num_stocks != 0:\n",
    "        s = input('Please enter ticker symbol for one stock: ')\n",
    "        stocks.append(s)\n",
    "        num_stocks -= 1\n",
    "    print('Stocks: ', stocks) #Includes benchmark\n",
    "    \n",
    "    start_year = int(input('What year do you want to start on? '))\n",
    "    end_year = int(input('What year do you want to end on? '))\n",
    "    \n",
    "    data = (web.DataReader(stocks,data_source='yahoo',start='01/01/'+str(start_year), \n",
    "                       end='12/31/'+str(end_year))['Adj Close'])\n",
    "   \n",
    "    print('\\nData Head: ')\n",
    "    print(data.head())\n",
    "    print('Data Tail: ')\n",
    "    print(data.tail())\n",
    "    \n",
    "#     returns = datas.pct_change()\n",
    "#     returns = returns.dropna()\n",
    "    \n",
    "    stocks = stocks[1:]\n",
    "    print('Stocks: ', stocks) #DEBUG\n",
    "    print('Stocks[1:] w/out benchmark: ', stocks[1:])\n",
    "    print()\n",
    "    \n",
    "    results = []\n",
    "    \n",
    "    # Create Pandas Excel writer object w/ engine xlsxwriter\n",
    "    writer = pd.ExcelWriter('pandas_multiple.xlsx', engine='xlsxwriter')\n",
    "    # Create xlsxwriter workbook object\n",
    "    workbook  = writer.book\n",
    "\n",
    "    # Regress each stock against the benchmark \n",
    "    for stock in stocks:\n",
    "        returns = data[[benchmark, stock]].pct_change()\n",
    "        returns = returns.dropna()\n",
    "        print('Returns with no NAs: ', returns)\n",
    "              \n",
    "        X = returns[benchmark] #changed from 'stock'\n",
    "        y = returns[stock] #changed from 'benchmark'\n",
    "              \n",
    "        a, b, model = linreg(X,y)\n",
    "              \n",
    "        df = model.tables[0] # Regresion summary statistics\n",
    "#         print('Df: ', df)\n",
    "        df1 = model.tables[1] # Tests of the coefficients\n",
    "#         print('Df1: ', df1)\n",
    "        table = df.append(df1) # Combine\n",
    "        print('Table: ', table)\n",
    "            \n",
    "        table.to_excel(writer, sheet_name='{}'.format(stock)) \n",
    "              \n",
    "        plt.scatter(X,y, alpha=0.3) #alpha - value used for blending\n",
    "              \n",
    "        p = np.linspace(X.min(),X.max(), 100)\n",
    "        print('P shape: ', p.shape())\n",
    "              \n",
    "        y1 = b*p + a\n",
    "        print('Y1: ', y1.shape())\n",
    "              \n",
    "        plt.plot(p, y1, 'r', alpha=.9)\n",
    "        plt.xlabel('Benchmark {} Return'.format(benchmark))\n",
    "        plt.ylabel('{} return'.format(stock))\n",
    "        plt.savefig('{}.png'.format(stock))\n",
    "              \n",
    "        worksheet = writer.sheets['{}'.format(stock)]\n",
    "        worksheet.insert_image('A15', '{}.png'.format(stock))\n",
    "        plt.clf() #Clear the current figure.\n",
    "        \n",
    "    writer.save()\n",
    "    writer.close()"
   ]
  },
  {
   "cell_type": "code",
   "execution_count": null,
   "metadata": {},
   "outputs": [],
   "source": [
    "betas() #rerun"
   ]
  },
  {
   "cell_type": "code",
   "execution_count": 13,
   "metadata": {},
   "outputs": [
    {
     "name": "stdout",
     "output_type": "stream",
     "text": [
      "range(1, 8)\n",
      "[[1. 1.]\n",
      " [1. 2.]\n",
      " [1. 3.]\n",
      " [1. 4.]\n",
      " [1. 5.]\n",
      " [1. 6.]\n",
      " [1. 7.]]\n",
      "<statsmodels.regression.linear_model.OLS object at 0x0000029CA1202B88>\n",
      "<statsmodels.regression.linear_model.RegressionResultsWrapper object at 0x0000029CA1202D48>\n"
     ]
    },
    {
     "data": {
      "text/plain": [
       "array([2.14285714, 0.25      ])"
      ]
     },
     "execution_count": 13,
     "metadata": {},
     "output_type": "execute_result"
    }
   ],
   "source": [
    "# import statsmodels.api as sm\n",
    "# Y = [1,3,4,5,2,3,4]\n",
    "# X = range(1,8) \n",
    "# print(X)\n",
    "# X = sm.add_constant(X)\n",
    "# print(X)\n",
    "# model = sm.OLS(Y,X)\n",
    "# print(model)\n",
    "# results = model.fit()\n",
    "# print(results)\n",
    "# results.params\n",
    "# resul"
   ]
  }
 ],
 "metadata": {
  "kernelspec": {
   "display_name": "Python 3",
   "language": "python",
   "name": "python3"
  },
  "language_info": {
   "codemirror_mode": {
    "name": "ipython",
    "version": 3
   },
   "file_extension": ".py",
   "mimetype": "text/x-python",
   "name": "python",
   "nbconvert_exporter": "python",
   "pygments_lexer": "ipython3",
   "version": "3.7.5"
  }
 },
 "nbformat": 4,
 "nbformat_minor": 4
}
