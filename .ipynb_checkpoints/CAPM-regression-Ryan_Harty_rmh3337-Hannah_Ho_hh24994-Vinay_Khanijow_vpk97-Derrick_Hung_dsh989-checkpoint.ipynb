{
 "cells": [
  {
   "cell_type": "markdown",
   "metadata": {},
   "source": [
    "Ryan_Harty_rmh3337  \n",
    "Hannah_Ho_hh24994  \n",
    "Vinay_Khanijow_vpk97  \n",
    "Derrick_Hung_dsh989"
   ]
  },
  {
   "cell_type": "markdown",
   "metadata": {},
   "source": [
    "Instructions:\n",
    "\n",
    "-Open file in Jupyter notebook or Jupyter lab\n",
    "\n",
    "-Program will query for number of stocks to analyze and dates of interest (start/end).\n",
    "\n",
    "-User should enter ticker symbols. Program will query for appropriate benchmark. User can select S&P 500, Russell 3000, Nasdaq or their own index symbol.\n",
    "\n",
    "-Program will request user to enter the appropriate risk free rate to use.\n",
    "\n",
    "-Program will scrape the price data from Yahoo.\n",
    "\n",
    "-Program will convert price data to returns, run regression, interpret output and write data to file as a multi-tabbed excel file with each stock's regression in one tab. "
   ]
  },
  {
   "cell_type": "code",
   "execution_count": 1,
   "metadata": {},
   "outputs": [
    {
     "name": "stderr",
     "output_type": "stream",
     "text": [
      "C:\\Users\\Hannah\\Anaconda3\\lib\\site-packages\\IPython\\core\\magics\\pylab.py:160: UserWarning: pylab import has clobbered these variables: ['random']\n",
      "`%matplotlib` prevents importing * from pylab and numpy\n",
      "  \"\\n`%matplotlib` prevents importing * from pylab and numpy\"\n"
     ]
    },
    {
     "name": "stdout",
     "output_type": "stream",
     "text": [
      "Populating the interactive namespace from numpy and matplotlib\n"
     ]
    },
    {
     "name": "stdin",
     "output_type": "stream",
     "text": [
      "Which benchmark ticker would you like to use? \n",
      "1 for S&P500, 2 for Russell 3000, 3 for NASDAQ, or enter your own\n",
      " 1\n"
     ]
    },
    {
     "name": "stdout",
     "output_type": "stream",
     "text": [
      "You chose S&P500\n"
     ]
    },
    {
     "name": "stdin",
     "output_type": "stream",
     "text": [
      "What would you like to use for risk free rate? (Enter as a decimal. Ex: 2% would be 0.02)\n",
      " .177\n"
     ]
    },
    {
     "name": "stdout",
     "output_type": "stream",
     "text": [
      "Daily risk free rate: 0.0004465896319580942\n"
     ]
    },
    {
     "name": "stdin",
     "output_type": "stream",
     "text": [
      "How many companies do you want to look at?\n",
      " 1\n",
      "please enter ticker symbol for one stock:\n",
      " spdw\n",
      "What year do you want to start on?\n",
      "Format: MM/DD/YYYY\n",
      "  04/26/2007\n",
      "What year do you want to end on?\n",
      "Format: MM/DD/YYYY\n",
      "   12/19/2019\n"
     ]
    },
    {
     "name": "stdout",
     "output_type": "stream",
     "text": [
      "Symbols        ^GSPC      spdw\n",
      "Date                          \n",
      "2007-04-27 -0.000567 -0.000141\n",
      "2007-04-30 -0.008278 -0.002894\n",
      "2007-05-01  0.002205 -0.003206\n",
      "2007-05-02  0.006026  0.005088\n",
      "2007-05-03  0.003878 -0.000141\n",
      "...              ...       ...\n",
      "2019-12-13 -0.000374  0.004360\n",
      "2019-12-16  0.006701  0.009120\n",
      "2019-12-17 -0.000111 -0.002973\n",
      "2019-12-18 -0.000879 -0.002030\n",
      "2019-12-19  0.002496 -0.001071\n",
      "\n",
      "[3186 rows x 2 columns]\n"
     ]
    },
    {
     "name": "stderr",
     "output_type": "stream",
     "text": [
      "C:\\Users\\Hannah\\Anaconda3\\lib\\site-packages\\numpy\\core\\fromnumeric.py:2495: FutureWarning: Method .ptp is deprecated and will be removed in a future version. Use numpy.ptp instead.\n",
      "  return ptp(axis=axis, out=out, **kwargs)\n"
     ]
    },
    {
     "name": "stdout",
     "output_type": "stream",
     "text": [
      "\n",
      "See excel file and images.\n",
      "\n"
     ]
    },
    {
     "data": {
      "text/plain": [
       "<Figure size 1440x720 with 0 Axes>"
      ]
     },
     "metadata": {},
     "output_type": "display_data"
    }
   ],
   "source": [
    "import pandas as pd\n",
    "import pandas_datareader.data as web\n",
    "import numpy as np\n",
    "import random\n",
    "import statsmodels.api as sm\n",
    "from statsmodels import regression\n",
    "%pylab inline\n",
    "\n",
    "def linreg(x,y):\n",
    "    \n",
    "    #runs the regression\n",
    "    x1 = sm.add_constant(x)\n",
    "    model = regression.linear_model.OLS(y,x1).fit()\n",
    "    \n",
    "#   returns the beta, alpha and model summary\n",
    "    return model.params[0], model.params[1], model.summary2()\n",
    "\n",
    "# menu of benchmark options\n",
    "def get_benchmark():\n",
    "    \n",
    "    benchmark = input('Which benchmark ticker would you like to use? \\n1 for S&P500, 2 for Russell 3000, 3 for NASDAQ, or enter your own\\n')\n",
    "    \n",
    "    if benchmark == '1':\n",
    "        benchmark = '^GSPC'\n",
    "        print('You chose S&P500')\n",
    "        return benchmark\n",
    "    elif benchmark == '2':\n",
    "        benchmark = '^RUA'\n",
    "        print('You chose Russell 3000')\n",
    "        return benchmark\n",
    "    elif benchmark == '3':\n",
    "        benchmark = '^IXIC'\n",
    "        print('You chose NASDAQ')\n",
    "        return benchmark\n",
    "    else:\n",
    "        return benchmark\n",
    "\n",
    "def betas():\n",
    "    \n",
    "    #Gather user information\n",
    "    benchmark = get_benchmark()\n",
    "    \n",
    "    rf = float(input('What would you like to use for risk free rate? (Enter as a decimal. Ex: 2% would be 0.02)\\n')) \n",
    "    rf_daily = np.power(1+rf,(1/365)) - 1\n",
    "    print('Daily risk free rate:', rf_daily)\n",
    "    #if you want to use a treasury bond, uncomment this code\n",
    "#     rf = input('What would you like to use for risk free rate?\\n IRX: 13 Week \\n FVX: 5 Year \\nTNX: 10 Year\\n') \n",
    "#     rf = '^'+rf\n",
    "\n",
    "    num_stocks = int(input('How many companies do you want to look at?\\n'))\n",
    "    \n",
    "    stocks = [benchmark]\n",
    "    \n",
    "    #Gets the ticker symbols for the stocks\n",
    "    while num_stocks != 0:\n",
    "        s = input('please enter ticker symbol for one stock:\\n')\n",
    "        stocks.append(s)\n",
    "        num_stocks -= 1\n",
    "        \n",
    "    start_year = input('What year do you want to start on?\\nFormat: MM/DD/YYYY\\n ')\n",
    "    start_year_name = start_year.replace('/','-')\n",
    "    \n",
    "    end_year = input('What year do you want to end on?\\nFormat: MM/DD/YYYY\\n  ')\n",
    "    end_year_name = end_year.replace('/','-')\n",
    "    \n",
    "    #scrape the info using yahoo finance \n",
    "    data = (web.DataReader(stocks,data_source='yahoo',start=start_year, \n",
    "                       end=end_year)['Adj Close'])\n",
    "    \n",
    "    #get monthly returns if you do not want to use daily returns\n",
    "#     data = data.groupby(pd.TimeGrouper(freq='MS'))[stocks].mean()\n",
    "        \n",
    "    #create and name an excel notebook\n",
    "    writer = pd.ExcelWriter('capm {} to {}.xlsx'.format(start_year_name, end_year_name), engine='xlsxwriter')\n",
    "    workbook  = writer.book\n",
    "    \n",
    "    data[benchmark] = data[benchmark]\n",
    "\n",
    "    for stock in stocks[1:]:\n",
    "        \n",
    "        data[stock] = data[stock]\n",
    "        \n",
    "        #calculate the returns for the market and the stock\n",
    "        #and subtract risk free rate from each stock to premiums\n",
    "        returns = data[[benchmark, stock]].pct_change() - rf_daily\n",
    "        returns = returns.dropna()\n",
    "        print(returns)\n",
    "        \n",
    "        #create X and y for the regression\n",
    "        y = returns[stock]\n",
    "        X = returns[benchmark]\n",
    "        \n",
    "        #returns alpha, beta and the summary of regression\n",
    "        a, b, model = linreg(X,y)\n",
    "        \n",
    "        #create a dataframe for the first part of the summary\n",
    "        df = model.tables[0]\n",
    "        \n",
    "        #create a dataframe for the second part of the summary\n",
    "        df1 = model.tables[1]\n",
    "        \n",
    "        #add the two dataframes together so there is only one dataframe to add to the excel spreedsheet\n",
    "        table = df.append(df1)\n",
    "        \n",
    "        #write the dataframe to excel\n",
    "        table.to_excel(writer, sheet_name='{}'.format(stock)) \n",
    "        \n",
    "        #create plot of security characteristic line\n",
    "        plt.figure(figsize = (20,10))\n",
    "        plt.scatter(X,y, alpha=0.3)\n",
    "        p = np.linspace(X.min(),X.max(), 100)\n",
    "        #b = beta and a = alpha\n",
    "        y1 = b*p + a\n",
    "        plt.plot(p, y1, 'r', alpha=.9) \n",
    "        plt.grid(True, which ='both')\n",
    "        plt.axhline(y=0, color = 'k')\n",
    "        plt.axvline(x=0, color = 'k')\n",
    "        plt.title('{} Security Characteristic Line'.format(stock))\n",
    "        plt.xlabel('Market Return')\n",
    "        plt.ylabel('{} return'.format(stock))\n",
    "        plt.savefig('{} {} to {}.png'.format(stock, start_year_name, end_year_name))\n",
    "        \n",
    "        #save the plot to the spreedsheet\n",
    "        worksheet = writer.sheets['{}'.format(stock)]\n",
    "        worksheet.insert_image('A15', '{} {} to {}.png'.format(stock, start_year_name, end_year_name))\n",
    "        \n",
    "        #clears the plot so that each plot is unique for the designated stock\n",
    "        plt.clf()\n",
    "        \n",
    "    #save and close the excel writer\n",
    "    writer.save()\n",
    "    writer.close()\n",
    "    \n",
    "    print('\\nSee excel file and images.\\n')\n",
    "\n",
    "#run the program\n",
    "betas()"
   ]
  },
  {
   "cell_type": "code",
   "execution_count": null,
   "metadata": {},
   "outputs": [],
   "source": [
    "# Plot of returns"
   ]
  }
 ],
 "metadata": {
  "kernelspec": {
   "display_name": "Python 3",
   "language": "python",
   "name": "python3"
  },
  "language_info": {
   "codemirror_mode": {
    "name": "ipython",
    "version": 3
   },
   "file_extension": ".py",
   "mimetype": "text/x-python",
   "name": "python",
   "nbconvert_exporter": "python",
   "pygments_lexer": "ipython3",
   "version": "3.7.5"
  }
 },
 "nbformat": 4,
 "nbformat_minor": 4
}
