{
 "cells": [
  {
   "cell_type": "code",
   "execution_count": 3,
   "metadata": {},
   "outputs": [
    {
     "name": "stderr",
     "output_type": "stream",
     "text": [
      "C:\\Users\\19785\\Anaconda3\\lib\\site-packages\\IPython\\core\\magics\\pylab.py:160: UserWarning: pylab import has clobbered these variables: ['random']\n",
      "`%matplotlib` prevents importing * from pylab and numpy\n",
      "  \"\\n`%matplotlib` prevents importing * from pylab and numpy\"\n"
     ]
    },
    {
     "name": "stdout",
     "output_type": "stream",
     "text": [
      "Populating the interactive namespace from numpy and matplotlib\n",
      "Which benchmark ticker would you like to use? \n",
      "SPY, Russel etc...spy\n",
      "What would you like to use for risk free rate?0\n",
      "How many companies do you want to look at? 3\n",
      "please enter ticker symbol for one stock: fb\n",
      "please enter ticker symbol for one stock: aapl\n",
      "please enter ticker symbol for one stock: tsla\n",
      "What year do you want to start on? 2012\n",
      "What year do you want to end on? 2018\n",
      "Symbols          aapl  fb         spy       tsla\n",
      "Date                                            \n",
      "2012-01-03  51.115936 NaN  109.206688  28.080000\n",
      "2012-01-04  51.390648 NaN  109.378014  27.709999\n",
      "2012-01-05  51.961189 NaN  109.669220  27.120001\n",
      "2012-01-06  52.504375 NaN  109.386559  26.910000\n",
      "2012-01-09  52.421093 NaN  109.652115  27.250000\n"
     ]
    },
    {
     "name": "stderr",
     "output_type": "stream",
     "text": [
      "C:\\Users\\19785\\Anaconda3\\lib\\site-packages\\numpy\\core\\fromnumeric.py:2389: FutureWarning: Method .ptp is deprecated and will be removed in a future version. Use numpy.ptp instead.\n",
      "  return ptp(axis=axis, out=out, **kwargs)\n"
     ]
    },
    {
     "data": {
      "text/plain": [
       "<Figure size 432x288 with 0 Axes>"
      ]
     },
     "metadata": {},
     "output_type": "display_data"
    }
   ],
   "source": [
    "import pandas as pd\n",
    "import pandas_datareader.data as web\n",
    "import numpy as np\n",
    "import random\n",
    "import statsmodels.api as sm\n",
    "from statsmodels import regression\n",
    "%pylab inline\n",
    "\n",
    "def linreg(x,y):\n",
    "    \n",
    "    x = sm.add_constant(x)\n",
    "    model = regression.linear_model.OLS(y,x).fit()\n",
    "    \n",
    "#     x = x[:, 1]\n",
    "    return model.params[0], model.params[1], model.summary2()\n",
    "\n",
    "\n",
    "def betas():\n",
    "    benchmark = input('Which benchmark ticker would you like to use? \\nSPY, Russel etc...')\n",
    "    rf = int(input('What would you like to use for risk free rate?'))\n",
    "    num_stocks = int(input('How many companies do you want to look at? '))\n",
    "    stocks = [benchmark]\n",
    "    while num_stocks != 0:\n",
    "        s = input('please enter ticker symbol for one stock: ')\n",
    "        stocks.append(s)\n",
    "        num_stocks -= 1\n",
    "    start_year = int(input('What year do you want to start on? '))\n",
    "    end_year = int(input('What year do you want to end on? '))\n",
    "    \n",
    "    data = (web.DataReader(stocks,data_source='yahoo',start='01/01/'+str(start_year), \n",
    "                       end='12/31/'+str(end_year))['Adj Close'])\n",
    "    print(data.head())\n",
    "    \n",
    "#     returns = datas.pct_change()\n",
    "#     returns = returns.dropna()\n",
    "    \n",
    "    stocks = stocks[1:]\n",
    "    \n",
    "    results = []\n",
    "    \n",
    "    writer = pd.ExcelWriter('pandas_multiple.xlsx', engine='xlsxwriter')\n",
    "    workbook  = writer.book\n",
    "\n",
    "    for stock in stocks:\n",
    "        returns = data[[benchmark, stock]].pct_change()\n",
    "        returns = returns.dropna()\n",
    "        X = returns[stock]\n",
    "        y = returns[benchmark]\n",
    "        a, b, model = linreg(X,y)\n",
    "        df = model.tables[0]\n",
    "        df1 = model.tables[1]\n",
    "        table = df.append(df1)\n",
    "        table.to_excel(writer, sheet_name='{}'.format(stock))    \n",
    "        plt.scatter(X,y, alpha=0.3)\n",
    "        p = np.linspace(X.min(),X.max(), 100)\n",
    "        y1 = b*p + a\n",
    "        plt.plot(p, y1, 'r', alpha=.9)\n",
    "        plt.xlabel('Market Return')\n",
    "        plt.ylabel('{} return'.format(stock))\n",
    "        plt.savefig('{}.png'.format(stock))\n",
    "        worksheet = writer.sheets['{}'.format(stock)]\n",
    "\n",
    "        worksheet.insert_image('A15', '{}.png'.format(stock))\n",
    "        plt.clf()\n",
    "        \n",
    "    writer.save()\n",
    "    writer.close()\n",
    "\n",
    "    \n",
    "    \n",
    "            \n",
    "    \n",
    "    \n",
    "betas()"
   ]
  },
  {
   "cell_type": "code",
   "execution_count": null,
   "metadata": {},
   "outputs": [],
   "source": []
  }
 ],
 "metadata": {
  "kernelspec": {
   "display_name": "Python 3",
   "language": "python",
   "name": "python3"
  },
  "language_info": {
   "codemirror_mode": {
    "name": "ipython",
    "version": 3
   },
   "file_extension": ".py",
   "mimetype": "text/x-python",
   "name": "python",
   "nbconvert_exporter": "python",
   "pygments_lexer": "ipython3",
   "version": "3.7.3"
  }
 },
 "nbformat": 4,
 "nbformat_minor": 2
}
